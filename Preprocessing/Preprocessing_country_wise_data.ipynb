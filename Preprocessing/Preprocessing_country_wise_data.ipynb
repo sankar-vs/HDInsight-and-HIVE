{
 "cells": [
  {
   "cell_type": "markdown",
   "metadata": {
    "deletable": true,
    "editable": true
   },
   "source": [
    "* @Author: Sankar\n",
    "* @Date: 2021-05-13 07:52:25\n",
    "* @Last Modified by: Sankar\n",
    "* @Last Modified time: 2021-05-14 19:58:09\n",
    "* @Title : Preprocessing of worldometer.csv  data"
   ]
  },
  {
   "cell_type": "code",
   "execution_count": 1,
   "metadata": {
    "cell_status": {
     "execute_time": {
      "duration": 40.399169921875,
      "end_time": 1620997364612.686
     }
    },
    "collapsed": false,
    "deletable": true,
    "editable": true
   },
   "outputs": [
    {
     "name": "stdout",
     "output_type": "stream",
     "text": [
      "Starting Spark application\n"
     ]
    },
    {
     "data": {
      "text/html": [
       "<table>\n",
       "<tr><th>ID</th><th>YARN Application ID</th><th>Kind</th><th>State</th><th>Spark UI</th><th>Driver log</th><th>Current session?</th></tr><tr><td>7</td><td>application_1620973165995_0022</td><td>pyspark</td><td>idle</td><td><a target=\"_blank\" href=\"http://hn1-practi.jqqmmjdy4o0erj3pjnxm0xjo5g.bx.internal.cloudapp.net:8088/proxy/application_1620973165995_0022/\">Link</a></td><td><a target=\"_blank\" href=\"http://wn0-practi.jqqmmjdy4o0erj3pjnxm0xjo5g.bx.internal.cloudapp.net:30060/node/containerlogs/container_e02_1620973165995_0022_01_000001/livy\">Link</a></td><td>✔</td></tr></table>"
      ],
      "text/plain": [
       "<IPython.core.display.HTML object>"
      ]
     },
     "metadata": {},
     "output_type": "display_data"
    },
    {
     "name": "stdout",
     "output_type": "stream",
     "text": [
      "SparkSession available as 'spark'.\n"
     ]
    }
   ],
   "source": [
    "from pyspark.sql import *\n",
    "from pyspark.sql.types import *"
   ]
  },
  {
   "cell_type": "code",
   "execution_count": 2,
   "metadata": {
    "cell_status": {
     "execute_time": {
      "duration": 243.052978515625,
      "end_time": 1620997472577.784
     }
    },
    "collapsed": true,
    "deletable": true,
    "editable": true
   },
   "outputs": [],
   "source": [
    "from pyspark.sql.functions import UserDefinedFunction, col, isnan, when, col, count, isnull, mean"
   ]
  },
  {
   "cell_type": "code",
   "execution_count": 3,
   "metadata": {
    "cell_status": {
     "execute_time": {
      "duration": 13312.3271484375,
      "end_time": 1620997487309.857
     }
    },
    "collapsed": false,
    "deletable": true,
    "editable": true
   },
   "outputs": [],
   "source": [
    "spark_df = spark.read.csv('wasbs://hadoopcluster@mydemostorage1234.blob.core.windows.net/raw_input/worldometer_data.csv', header=True, inferSchema=True)"
   ]
  },
  {
   "cell_type": "code",
   "execution_count": 4,
   "metadata": {
    "cell_status": {
     "execute_time": {
      "duration": 3323.623046875,
      "end_time": 1620997493651.152
     }
    },
    "collapsed": false,
    "deletable": true,
    "editable": true
   },
   "outputs": [
    {
     "name": "stdout",
     "output_type": "stream",
     "text": [
      "DataFrame[summary: string, Country/Region: string, Continent: string, Population: string, TotalCases: string, NewCases: string, TotalDeaths: string, NewDeaths: string, TotalRecovered: string, NewRecovered: string, ActiveCases: string, Serious,Critical: string, Tot Cases/1M pop: string, Deaths/1M pop: string, TotalTests: string, Tests/1M pop: string, WHO Region: string]"
     ]
    }
   ],
   "source": [
    "spark_df.describe()"
   ]
  },
  {
   "cell_type": "code",
   "execution_count": 5,
   "metadata": {
    "cell_status": {
     "execute_time": {
      "duration": 45.7890625,
      "end_time": 1620997498872.058
     }
    },
    "collapsed": false,
    "deletable": true,
    "editable": true
   },
   "outputs": [
    {
     "name": "stdout",
     "output_type": "stream",
     "text": [
      "root\n",
      " |-- Country/Region: string (nullable = true)\n",
      " |-- Continent: string (nullable = true)\n",
      " |-- Population: integer (nullable = true)\n",
      " |-- TotalCases: integer (nullable = true)\n",
      " |-- NewCases: integer (nullable = true)\n",
      " |-- TotalDeaths: integer (nullable = true)\n",
      " |-- NewDeaths: integer (nullable = true)\n",
      " |-- TotalRecovered: integer (nullable = true)\n",
      " |-- NewRecovered: integer (nullable = true)\n",
      " |-- ActiveCases: integer (nullable = true)\n",
      " |-- Serious,Critical: integer (nullable = true)\n",
      " |-- Tot Cases/1M pop: integer (nullable = true)\n",
      " |-- Deaths/1M pop: double (nullable = true)\n",
      " |-- TotalTests: integer (nullable = true)\n",
      " |-- Tests/1M pop: integer (nullable = true)\n",
      " |-- WHO Region: string (nullable = true)"
     ]
    }
   ],
   "source": [
    "spark_df.printSchema()"
   ]
  },
  {
   "cell_type": "code",
   "execution_count": 6,
   "metadata": {
    "cell_status": {
     "execute_time": {
      "duration": 747.136962890625,
      "end_time": 1620997502592.305
     }
    },
    "collapsed": false,
    "deletable": true,
    "editable": true
   },
   "outputs": [
    {
     "name": "stdout",
     "output_type": "stream",
     "text": [
      "[Row(Country/Region=u'USA', Continent=u'North America', Population=331198130, TotalCases=5032179, NewCases=None, TotalDeaths=162804, NewDeaths=None, TotalRecovered=2576668, NewRecovered=None, ActiveCases=2292707, Serious,Critical=18296, Tot Cases/1M pop=15194, Deaths/1M pop=492.0, TotalTests=63139605, Tests/1M pop=190640, WHO Region=u'Americas'), Row(Country/Region=u'Brazil', Continent=u'South America', Population=212710692, TotalCases=2917562, NewCases=None, TotalDeaths=98644, NewDeaths=None, TotalRecovered=2047660, NewRecovered=None, ActiveCases=771258, Serious,Critical=8318, Tot Cases/1M pop=13716, Deaths/1M pop=464.0, TotalTests=13206188, Tests/1M pop=62085, WHO Region=u'Americas'), Row(Country/Region=u'India', Continent=u'Asia', Population=1381344997, TotalCases=2025409, NewCases=None, TotalDeaths=41638, NewDeaths=None, TotalRecovered=1377384, NewRecovered=None, ActiveCases=606387, Serious,Critical=8944, Tot Cases/1M pop=1466, Deaths/1M pop=30.0, TotalTests=22149351, Tests/1M pop=16035, WHO Region=u'South-EastAsia'), Row(Country/Region=u'Russia', Continent=u'Europe', Population=145940924, TotalCases=871894, NewCases=None, TotalDeaths=14606, NewDeaths=None, TotalRecovered=676357, NewRecovered=None, ActiveCases=180931, Serious,Critical=2300, Tot Cases/1M pop=5974, Deaths/1M pop=100.0, TotalTests=29716907, Tests/1M pop=203623, WHO Region=u'Europe'), Row(Country/Region=u'South Africa', Continent=u'Africa', Population=59381566, TotalCases=538184, NewCases=None, TotalDeaths=9604, NewDeaths=None, TotalRecovered=387316, NewRecovered=None, ActiveCases=141264, Serious,Critical=539, Tot Cases/1M pop=9063, Deaths/1M pop=162.0, TotalTests=3149807, Tests/1M pop=53044, WHO Region=u'Africa')]"
     ]
    }
   ],
   "source": [
    "spark_df.head(5)"
   ]
  },
  {
   "cell_type": "code",
   "execution_count": 7,
   "metadata": {
    "cell_status": {
     "execute_time": {
      "duration": 57.251953125,
      "end_time": 1620997504748.39
     }
    },
    "collapsed": true,
    "deletable": true,
    "editable": true
   },
   "outputs": [],
   "source": [
    "# Helper function to drop unused columns and rename interesting columns.\n",
    "def selectInterestingColumns(rawDf):\n",
    "    # Mapping column index to name.\n",
    "    columnNames = {0: \"Country\", 1:\"Continent\", 2:\"Population\", 3:\"TotalCases\", 5:\"TotalDeaths\",\n",
    "                   7:\"TotalRecovered\", 9: \"ActiveCases\"} \n",
    "    # Rename column from 'data' to something meaningful\n",
    "    cols = [col(rawDf.columns[i]).alias(columnNames[i]) for i in columnNames.keys()]\n",
    "    \n",
    "    # Drop columns we are not using.\n",
    "    df = rawDf.select(cols)\n",
    "    \n",
    "    return df"
   ]
  },
  {
   "cell_type": "code",
   "execution_count": 8,
   "metadata": {
    "cell_status": {
     "execute_time": {
      "duration": 2259.0439453125,
      "end_time": 1620997508975.921
     }
    },
    "collapsed": false,
    "deletable": true,
    "editable": true
   },
   "outputs": [
    {
     "name": "stdout",
     "output_type": "stream",
     "text": [
      "209"
     ]
    }
   ],
   "source": [
    "df = selectInterestingColumns(spark_df).cache()\n",
    "df.count()"
   ]
  },
  {
   "cell_type": "code",
   "execution_count": 9,
   "metadata": {
    "cell_status": {
     "execute_time": {
      "duration": 37.401123046875,
      "end_time": 1620997511244.876
     }
    },
    "collapsed": false,
    "deletable": true,
    "editable": true
   },
   "outputs": [
    {
     "name": "stdout",
     "output_type": "stream",
     "text": [
      "root\n",
      " |-- Country: string (nullable = true)\n",
      " |-- Continent: string (nullable = true)\n",
      " |-- Population: integer (nullable = true)\n",
      " |-- TotalCases: integer (nullable = true)\n",
      " |-- TotalDeaths: integer (nullable = true)\n",
      " |-- TotalRecovered: integer (nullable = true)\n",
      " |-- ActiveCases: integer (nullable = true)"
     ]
    }
   ],
   "source": [
    "df.printSchema()"
   ]
  },
  {
   "cell_type": "code",
   "execution_count": 10,
   "metadata": {
    "cell_status": {
     "execute_time": {
      "duration": 2697.44482421875,
      "end_time": 1620997515806.097
     }
    },
    "collapsed": false,
    "deletable": true,
    "editable": true
   },
   "outputs": [
    {
     "name": "stdout",
     "output_type": "stream",
     "text": [
      "+-------+---------+----------+----------+-----------+--------------+-----------+\n",
      "|Country|Continent|Population|TotalCases|TotalDeaths|TotalRecovered|ActiveCases|\n",
      "+-------+---------+----------+----------+-----------+--------------+-----------+\n",
      "|      0|        1|         1|         0|         21|             4|          4|\n",
      "+-------+---------+----------+----------+-----------+--------------+-----------+"
     ]
    }
   ],
   "source": [
    "df.select([count(when(col(c).isNull(), c)).alias(c) for c in df.columns]).show()"
   ]
  },
  {
   "cell_type": "code",
   "execution_count": 11,
   "metadata": {
    "cell_status": {
     "execute_time": {
      "duration": 754.72509765625,
      "end_time": 1620997520904.973
     }
    },
    "collapsed": false,
    "deletable": true,
    "editable": true
   },
   "outputs": [
    {
     "name": "stdout",
     "output_type": "stream",
     "text": [
      "+-------+---------+----------+----------+-----------+--------------+-----------+\n",
      "|Country|Continent|Population|TotalCases|TotalDeaths|TotalRecovered|ActiveCases|\n",
      "+-------+---------+----------+----------+-----------+--------------+-----------+\n",
      "|      0|        1|         1|         0|         21|             4|          4|\n",
      "+-------+---------+----------+----------+-----------+--------------+-----------+"
     ]
    }
   ],
   "source": [
    "df.select([count(when(col(c).isNull(), c)).alias(c) for c in df.columns]).show()"
   ]
  },
  {
   "cell_type": "code",
   "execution_count": 12,
   "metadata": {
    "cell_status": {
     "execute_time": {
      "duration": 763.8330078125,
      "end_time": 1620997526301.513
     }
    },
    "collapsed": false,
    "deletable": true,
    "editable": true
   },
   "outputs": [
    {
     "name": "stdout",
     "output_type": "stream",
     "text": [
      "+----------------+---------+----------+----------+-----------+--------------+-----------+\n",
      "|         Country|Continent|Population|TotalCases|TotalDeaths|TotalRecovered|ActiveCases|\n",
      "+----------------+---------+----------+----------+-----------+--------------+-----------+\n",
      "|Diamond Princess|     null|      null|       712|         13|           651|         48|\n",
      "+----------------+---------+----------+----------+-----------+--------------+-----------+"
     ]
    }
   ],
   "source": [
    "# Check the row which is null\n",
    "df.filter(col(\"Continent\").isNull()).show()"
   ]
  },
  {
   "cell_type": "code",
   "execution_count": 13,
   "metadata": {
    "cell_status": {
     "execute_time": {
      "duration": 747.7158203125,
      "end_time": 1620997529531.586
     }
    },
    "collapsed": false,
    "deletable": true,
    "editable": true
   },
   "outputs": [
    {
     "name": "stdout",
     "output_type": "stream",
     "text": [
      "183"
     ]
    }
   ],
   "source": [
    "# Diamond Princess is cruise ship and it does not fall under any countries, therefore we will remove this data\n",
    "df = df.na.drop()\n",
    "df.count()"
   ]
  },
  {
   "cell_type": "code",
   "execution_count": 14,
   "metadata": {
    "cell_status": {
     "execute_time": {
      "duration": 751.81396484375,
      "end_time": 1620997535416.125
     }
    },
    "collapsed": false,
    "deletable": true,
    "editable": true
   },
   "outputs": [
    {
     "name": "stdout",
     "output_type": "stream",
     "text": [
      "+------------+-------------+----------+----------+-----------+--------------+-----------+\n",
      "|     Country|    Continent|Population|TotalCases|TotalDeaths|TotalRecovered|ActiveCases|\n",
      "+------------+-------------+----------+----------+-----------+--------------+-----------+\n",
      "|         USA|North America| 331198130|   5032179|     162804|       2576668|    2292707|\n",
      "|      Brazil|South America| 212710692|   2917562|      98644|       2047660|     771258|\n",
      "|       India|         Asia|1381344997|   2025409|      41638|       1377384|     606387|\n",
      "|      Russia|       Europe| 145940924|    871894|      14606|        676357|     180931|\n",
      "|South Africa|       Africa|  59381566|    538184|       9604|        387316|     141264|\n",
      "|      Mexico|North America| 129066160|    462690|      50517|        308848|     103325|\n",
      "|        Peru|South America|  33016319|    455409|      20424|        310337|     124648|\n",
      "|       Chile|South America|  19132514|    366671|       9889|        340168|      16614|\n",
      "|    Colombia|South America|  50936262|    357710|      11939|        192355|     153416|\n",
      "|        Iran|         Asia|  84097623|    320117|      17976|        277463|      24678|\n",
      "|Saudi Arabia|         Asia|  34865919|    284226|       3055|        247089|      34082|\n",
      "|    Pakistan|         Asia| 221295851|    281863|       6035|        256058|      19770|\n",
      "|  Bangladesh|         Asia| 164851401|    249651|       3306|        143824|     102521|\n",
      "|       Italy|       Europe|  60452568|    249204|      35187|        201323|      12694|\n",
      "|      Turkey|         Asia|  84428331|    237265|       5798|        220546|      10921|\n",
      "|   Argentina|South America|  45236884|    228195|       4251|         99852|     124092|\n",
      "|     Germany|       Europe|  83811260|    215210|       9252|        196200|       9758|\n",
      "|      France|       Europe|  65288306|    195633|      30312|         82460|      82861|\n",
      "|        Iraq|         Asia|  40306025|    140603|       5161|        101025|      34417|\n",
      "| Philippines|         Asia| 109722719|    119460|       2150|         66837|      50473|\n",
      "+------------+-------------+----------+----------+-----------+--------------+-----------+\n",
      "only showing top 20 rows"
     ]
    }
   ],
   "source": [
    "df.show()"
   ]
  },
  {
   "cell_type": "code",
   "execution_count": 15,
   "metadata": {
    "cell_status": {
     "execute_time": {
      "duration": 2261.966064453125,
      "end_time": 1620997540996.024
     }
    },
    "collapsed": false,
    "deletable": true,
    "editable": true
   },
   "outputs": [],
   "source": [
    "df.write.csv('wasbs://hadoopcluster@mydemostorage1234.blob.core.windows.net/processed/worldometer.csv')"
   ]
  },
  {
   "cell_type": "code",
   "execution_count": 16,
   "metadata": {
    "cell_status": {
     "execute_time": {
      "duration": 7293.47607421875,
      "end_time": 1620997551443.392
     }
    },
    "collapsed": true,
    "deletable": true,
    "editable": true
   },
   "outputs": [],
   "source": [
    "df.write.saveAsTable(\"hvcountrywise\")"
   ]
  },
  {
   "cell_type": "code",
   "execution_count": null,
   "metadata": {
    "collapsed": true,
    "deletable": true,
    "editable": true
   },
   "outputs": [],
   "source": []
  }
 ],
 "metadata": {
  "kernelspec": {
   "display_name": "PySpark",
   "language": "",
   "name": "pysparkkernel"
  },
  "language_info": {
   "codemirror_mode": {
    "name": "python",
    "version": 2
   },
   "mimetype": "text/x-python",
   "name": "pyspark",
   "pygments_lexer": "python2"
  }
 },
 "nbformat": 4,
 "nbformat_minor": 2
}